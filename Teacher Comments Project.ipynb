{
 "cells": [
  {
   "cell_type": "code",
   "execution_count": 17,
   "metadata": {
    "collapsed": false
   },
   "outputs": [
   ],
   "source": [
    "import csv\n",
    "data = []\n",
    "with open('student_info.csv') as csvfile:\n",
    "    info = csv.reader(csvfile, delimiter=',')\n",
    "    row_count = 0\n",
    "    for row in info:\n",
    "        if row_count == 0:\n",
    "            header = row\n",
    "        else:\n",
    "            data.append(row)\n",
    "        row_count = row_count + 1"
   ]
  },
  {
   "cell_type": "code",
   "execution_count": 18,
   "metadata": {
    "collapsed": false
   },
   "outputs": [
   ],
   "source": [
    "def course_description(row):\n",
    "    '''creates the course description part of the comment'''\n",
    "    return row[1]"
   ]
  },
  {
   "cell_type": "code",
   "execution_count": 31,
   "metadata": {
    "collapsed": false
   },
   "outputs": [
   ],
   "source": [
    "import random\n",
    "def he_she(row):\n",
    "    return row[6].split(',')[0]\n",
    "\n",
    "def him_her(row):\n",
    "    return row[6].split(',')[1]\n",
    "\n",
    "def student(row):\n",
    "    return row[0]\n",
    "\n",
    "def attrib(row):\n",
    "    return row[2].split(',')\n",
    "\n",
    "def student_attributes(row):\n",
    "    '''creates the student attributes part of the comment'''\n",
    "    x = random.randint(0,3)\n",
    "    y = random.randint(0,4)\n",
    "    z = random.randint(0,4)\n",
    "    starter = [\"I think\",\"I've noticed that\",\"Throughout the semester I've observed that\",\"\"]\n",
    "    new_sent = [\"Also\",\"In addition\",\"On top of that\",\"Additionally\",\"I've also noticed\"]\n",
    "    last = [\"Lastly,\",\"Finally,\",\"Last,\",\"One last thing,\",\"I'll also add that\"]\n",
    "    return (f\"{starter[x]}\n",
    " {student(row)} {attrib(row)[0]} and{attrib(row)[1]}. {new_sent[y]}, {he_she(row)}{attrib(row)[2]} and{attrib(row)[3]}. {last[z]} {student(row)}{attrib(row)[4]}.\")"
   ]
  },
  {
   "cell_type": "code",
   "execution_count": 20,
   "metadata": {
    "collapsed": false
   },
   "outputs": [
   ],
   "source": [
    "import random\n",
    "def summary(row):\n",
    "    '''creates the summary of key grades and projects part of the comment'''\n",
    "    final = ''\n",
    "    for word in row[3].split()[2:]:\n",
    "        final += ' ' + word\n",
    "    compliment = [\"Outstanding job!\",\"Amazing work!\",\"Wonderful job!\",\"Stellar work!\",\"Really great job!\",\"Incredible job!\"]\n",
    "    mid = [\"Pretty good job.\",\"Good job, but I think it could've done better.\",\"Good work but not the best work.\"]\n",
    "    fail = [\"Was there even any effort?\",\"Pretty indicative of the understanding of the course material.\",\"Not a great job.\"]\n",
    "    x = random.randint(0,5)\n",
    "    y = random.randint(0,2)\n",
    "    grade = int(row[3].split()[0][:-1])\n",
    "    if grade >= 90:\n",
    "        return (f\"Your grade on the{final} was {grade}%. {compliment[x]}\")\n",
    "    elif grade <= 70:\n",
    "        return (f\"Your grade on the{final} was {grade}%. {fail[y]}\")\n",
    "    else:\n",
    "        return (f\"Your grade on the{final} was {grade}%. {mid[y]}\")"
   ]
  },
  {
   "cell_type": "code",
   "execution_count": 21,
   "metadata": {
    "collapsed": false
   },
   "outputs": [
   ],
   "source": [
    "import random\n",
    "def suggestions(row):\n",
    "    '''creates the suggestions for improvement part of the comment'''\n",
    "    name = row[0].split()[0] \n",
    "    transitions = ['I think that '+ name + ' should try to', 'I would suggest that '+ name, 'I would encourage ' + name + ' to', 'I recommend that ' + name]\n",
    "    x = random.randint(0,3)\n",
    "    suggestion = transitions[x]\n",
    "    counter = 0\n",
    "    for i in row[4].split(\",\"):\n",
    "        if i == row[4].split(\",\")[-1]:\n",
    "            suggestion += ' '+i.lower().strip()+\".\"\n",
    "\n",
    "        else:\n",
    "            suggestion += ' '+i.lower().strip()+\" and\"\n",
    "\n",
    "    return suggestion"
   ]
  },
  {
   "cell_type": "code",
   "execution_count": 26,
   "metadata": {
    "collapsed": false
   },
   "outputs": [
   ],
   "source": [
    "def closing(row):\n",
    "    '''creates the final grade and closing part of the comment'''\n",
    "    grade = row[5].split(',')[0]\n",
    "    return (f\"You received a {grade} as your final grade.{row[5].split(',')[1]}.\")"
   ]
  },
  {
   "cell_type": "code",
   "execution_count": 39,
   "metadata": {
    "collapsed": false
   },
   "outputs": [
   ],
   "source": [
    "#creates the final teacher comment\n",
    "for row in data:\n",
    "    file_name = (student(row)+'.txt')\n",
    "    file = open(file_name, 'w')\n",
    "    file.write(student(row)+':'+'\\n')\n",
    "    file.write(course_description(row)+'\\n')\n",
    "    file.write(student_attributes(row)+'\\n')\n",
    "    file.write(summary(row))\n",
    "    file.write(suggestions(row)+'\\n')\n",
    "    file.write(closing(row)+'\\n'+'\\n')\n",
    "    file.close()"
   ]
  }
 ],
 "metadata": {
  "kernelspec": {
   "display_name": "Python 3 (system-wide)",
   "language": "python",
   "metadata": {
    "cocalc": {
     "description": "Python 3 programming language",
     "priority": 100,
     "url": "https://www.python.org/"
    }
   },
   "name": "python3",
   "resource_dir": "/ext/jupyter/kernels/python3"
  },
  "language_info": {
   "codemirror_mode": {
    "name": "ipython",
    "version": 3
   },
   "file_extension": ".py",
   "mimetype": "text/x-python",
   "name": "python",
   "nbconvert_exporter": "python",
   "pygments_lexer": "ipython3",
   "version": "3.8.5"
  }
 },
 "nbformat": 4,
 "nbformat_minor": 4
}